{
 "cells": [
  {
   "cell_type": "markdown",
   "id": "c603012e",
   "metadata": {},
   "source": [
    "For each of the following questions, formulate a null and alternative hypothesis (be as specific as you can be), then give an example of what a true positive, true negative, type I and type II errors would look like. Note that some of the questions are intentionally phrased in a vague way. It is your job to reword these as more precise questions that could be tested."
   ]
  },
  {
   "cell_type": "markdown",
   "id": "70fe26ef",
   "metadata": {},
   "source": [
    "Has the network latency gone up since we switched internet service providers?\n"
   ]
  },
  {
   "cell_type": "markdown",
   "id": "82a87218",
   "metadata": {},
   "source": [
    "- Ho = switching internet service providers increases latency\n",
    "- Ha = switching internet service has no bearing on latency\n",
    "\n",
    "- true positive = latency is increased with a different ISP - fail to reject\n",
    "- true negative = latency isn't increased with a different ISP - we reject HO\n",
    "- type 1 error = a false positive would be rejecting the HO when infact it is true\n",
    "- type 2 error = a false negative would be failing to reject HO when infact it is false"
   ]
  },
  {
   "cell_type": "markdown",
   "id": "c1b092b9",
   "metadata": {},
   "source": [
    "Is the website redesign any good?\n"
   ]
  },
  {
   "cell_type": "markdown",
   "id": "9183bbdc",
   "metadata": {},
   "source": [
    "- Ho = a recent survey of users indicates a positive sentiment to the website redesign\n",
    "\n",
    "- Ha = the surveyed indicate no preference between the old a new websites redesign\n",
    "\n",
    "- true positive = sentiment is increased with a redesigned website - fail to reject\n",
    "\n",
    "- true negative = sentiment isn't increased with a redesigned website - we reject HO\n",
    "\n",
    "- type 1 error = a false positive would be rejecting the HO when infact it is true\n",
    "\n",
    "- type 2 error = a false negative would be failing to reject HO when infact it is false"
   ]
  },
  {
   "cell_type": "markdown",
   "id": "31d5d7da",
   "metadata": {},
   "source": [
    "Is our television ad driving more sales?"
   ]
  },
  {
   "cell_type": "markdown",
   "id": "57f8edcd",
   "metadata": {},
   "source": [
    "- Ho = sales have increased since the recent ad campaign\n",
    "\n",
    "- Ha = sales have experienced no change since the recent ad campaign\n",
    "\n",
    "- true positive = ad campaign is positively affecting sales - fail to reject\n",
    "\n",
    "- true negative = ad campaign isn't positively affecting sales - we reject HO\n",
    "\n",
    "- type 1 error = a false positive would be rejecting the HO when infact it is true\n",
    "\n",
    "- type 2 error = a false negative would be failing to reject HO when infact it is false"
   ]
  },
  {
   "cell_type": "code",
   "execution_count": null,
   "id": "53af3a13",
   "metadata": {},
   "outputs": [],
   "source": []
  },
  {
   "cell_type": "code",
   "execution_count": null,
   "id": "02a94b3e",
   "metadata": {},
   "outputs": [],
   "source": []
  },
  {
   "cell_type": "code",
   "execution_count": null,
   "id": "9cd157a2",
   "metadata": {},
   "outputs": [],
   "source": []
  }
 ],
 "metadata": {
  "kernelspec": {
   "display_name": "Python 3 (ipykernel)",
   "language": "python",
   "name": "python3"
  },
  "language_info": {
   "codemirror_mode": {
    "name": "ipython",
    "version": 3
   },
   "file_extension": ".py",
   "mimetype": "text/x-python",
   "name": "python",
   "nbconvert_exporter": "python",
   "pygments_lexer": "ipython3",
   "version": "3.9.13"
  }
 },
 "nbformat": 4,
 "nbformat_minor": 5
}
