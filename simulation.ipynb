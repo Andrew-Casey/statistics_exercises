{
 "cells": [
  {
   "cell_type": "code",
   "execution_count": 1,
   "id": "e7c006dd",
   "metadata": {},
   "outputs": [],
   "source": [
    "import numpy as np\n",
    "import pandas as pd\n",
    "\n",
    "np.random.seed(123)"
   ]
  },
  {
   "cell_type": "markdown",
   "id": "698317c5",
   "metadata": {},
   "source": [
    "# 1\n",
    "How likely is it that you roll doubles when rolling two dice?"
   ]
  },
  {
   "cell_type": "code",
   "execution_count": 9,
   "id": "4565bb04",
   "metadata": {},
   "outputs": [
    {
     "data": {
      "text/plain": [
       "[1, 2, 3, 4, 5, 6]"
      ]
     },
     "execution_count": 9,
     "metadata": {},
     "output_type": "execute_result"
    }
   ],
   "source": [
    "# define possible dice outcomes\n",
    "outcomes = [1,2,3,4,5,6]\n",
    "outcomes\n"
   ]
  },
  {
   "cell_type": "code",
   "execution_count": 12,
   "id": "d11b34bf",
   "metadata": {},
   "outputs": [],
   "source": [
    "# define number of simulations\n",
    "n_trials = 2\n",
    "n_simulations = 100_000\n",
    "\n"
   ]
  },
  {
   "cell_type": "code",
   "execution_count": 16,
   "id": "0b327ac4",
   "metadata": {
    "scrolled": true
   },
   "outputs": [
    {
     "data": {
      "text/plain": [
       "array([[6, 1],\n",
       "       [5, 5],\n",
       "       [2, 6],\n",
       "       ...,\n",
       "       [1, 2],\n",
       "       [4, 1],\n",
       "       [6, 1]])"
      ]
     },
     "execution_count": 16,
     "metadata": {},
     "output_type": "execute_result"
    }
   ],
   "source": [
    "#create matrix using our data for this problem\n",
    "rolls = np.random.choice(outcomes, (n_simulations, n_trials))\n",
    "rolls\n",
    "\n"
   ]
  },
  {
   "cell_type": "code",
   "execution_count": 43,
   "id": "68eeb1bc",
   "metadata": {},
   "outputs": [
    {
     "data": {
      "text/plain": [
       "0.16626"
      ]
     },
     "execution_count": 43,
     "metadata": {},
     "output_type": "execute_result"
    }
   ],
   "source": [
    "nate_rolls = (rolls[:, 0] == rolls[:, 1]).mean()\n",
    "nate_rolls"
   ]
  },
  {
   "cell_type": "code",
   "execution_count": 46,
   "id": "7b1fcb5e",
   "metadata": {},
   "outputs": [
    {
     "data": {
      "text/plain": [
       "0.16626"
      ]
     },
     "execution_count": 46,
     "metadata": {},
     "output_type": "execute_result"
    }
   ],
   "source": [
    "np.sum(rolls[:, 0] == rolls[:, 1], axis=0)/ n_simulations"
   ]
  },
  {
   "cell_type": "code",
   "execution_count": 38,
   "id": "c76369c5",
   "metadata": {},
   "outputs": [
    {
     "data": {
      "text/plain": [
       "0.16626"
      ]
     },
     "execution_count": 38,
     "metadata": {},
     "output_type": "execute_result"
    }
   ],
   "source": [
    "sum(roll[0] == roll[1] for roll in rolls) /n_simulations"
   ]
  },
  {
   "cell_type": "code",
   "execution_count": 45,
   "id": "7d3e8912",
   "metadata": {},
   "outputs": [
    {
     "data": {
      "text/plain": [
       "0.16626"
      ]
     },
     "execution_count": 45,
     "metadata": {},
     "output_type": "execute_result"
    }
   ],
   "source": [
    "num_doubles = np.count_nonzero(rolls[:, 0] == rolls[:, 1])\n",
    "num_doubles/ n_simulations"
   ]
  },
  {
   "cell_type": "code",
   "execution_count": 36,
   "id": "b2513f4e",
   "metadata": {},
   "outputs": [
    {
     "data": {
      "text/plain": [
       "0.16497"
      ]
     },
     "execution_count": 36,
     "metadata": {},
     "output_type": "execute_result"
    }
   ],
   "source": [
    "outcomes = [1,2,3,4,5,6]\n",
    "n_trials = 2\n",
    "n_simulations = 100_000\n",
    "rolls = np.random.choice(outcomes, (n_simulations, n_trials))\n",
    "prob_doubles = num_doubles / n_simulations\n",
    "prob_doubles"
   ]
  },
  {
   "cell_type": "markdown",
   "id": "d1b609e4",
   "metadata": {},
   "source": [
    "# 2\n",
    "If you flip 8 coins, what is the probability of getting exactly 3 heads? What is the probability of getting more than 3 heads?"
   ]
  },
  {
   "cell_type": "code",
   "execution_count": 55,
   "id": "e58e0008",
   "metadata": {},
   "outputs": [
    {
     "data": {
      "text/plain": [
       "0.21883"
      ]
     },
     "execution_count": 55,
     "metadata": {},
     "output_type": "execute_result"
    }
   ],
   "source": [
    "outcomes = ['H','T']\n",
    "\n",
    "#simulations & trials\n",
    "n_trials = 8\n",
    "n_simulations = 100_000\n",
    "\n",
    "coin_flips = np.random.choice(outcomes, (n_simulations, n_trials))\n",
    "coin_flips\n",
    "head_counts = (coin_flips == 'H').sum(axis=1)\n",
    "head_counts\n",
    "\n",
    "(head_counts == 3).mean()"
   ]
  },
  {
   "cell_type": "markdown",
   "id": "33a23b55",
   "metadata": {},
   "source": [
    "# 3\n",
    "What is the probability of getting more than 3 heads?"
   ]
  },
  {
   "cell_type": "code",
   "execution_count": 57,
   "id": "81d3611d",
   "metadata": {},
   "outputs": [
    {
     "data": {
      "text/plain": [
       "0.63652"
      ]
     },
     "execution_count": 57,
     "metadata": {},
     "output_type": "execute_result"
    }
   ],
   "source": [
    "outcomes = ['H','T']\n",
    "\n",
    "#simulations & trials\n",
    "n_trials = 8\n",
    "n_simulations = 100_000\n",
    "\n",
    "coin_flips = np.random.choice(outcomes, (n_simulations, n_trials))\n",
    "coin_flips\n",
    "head_counts = (coin_flips == 'H').sum(axis=1)\n",
    "head_counts\n",
    "\n",
    "(head_counts > 3).mean()"
   ]
  },
  {
   "cell_type": "code",
   "execution_count": 59,
   "id": "d726f4b2",
   "metadata": {},
   "outputs": [
    {
     "data": {
      "text/plain": [
       "0.0625"
      ]
     },
     "execution_count": 59,
     "metadata": {},
     "output_type": "execute_result"
    }
   ],
   "source": [
    "#P(A and B) = P(A) * P(B) aka multiplication rule\n",
    "P_A = 1/4\n",
    "P_B = 1/4\n",
    "P_AB = P_A * P_B\n",
    "\n",
    "P_AB\n"
   ]
  },
  {
   "cell_type": "code",
   "execution_count": 61,
   "id": "4ca27183",
   "metadata": {},
   "outputs": [
    {
     "data": {
      "text/plain": [
       "0.2"
      ]
     },
     "execution_count": 61,
     "metadata": {},
     "output_type": "execute_result"
    }
   ],
   "source": [
    "import numpy as np\n",
    "\n",
    "# parameters\n",
    "\n",
    "mean = 3\n",
    "std_dev = 1.5\n",
    "num_days = 5\n",
    "restocked_packages = 17\n",
    "\n",
    "# number of poptart packages purchased each day\n",
    "daily_purchases = np.random.normal(loc=mean, scale=std_dev, size=num_days)\n",
    "\n",
    "# total number of poptart packages purchased during the week\n",
    "total_purchases = int(round(np.sum(daily_purchases)))\n",
    "\n",
    "# probability of being able poptarts on Friday afternoon\n",
    "prob = (restocked_packages - total_purchases) / (mean * num_days)\n",
    "\n",
    "prob\n"
   ]
  },
  {
   "cell_type": "code",
   "execution_count": null,
   "id": "3fb61a74",
   "metadata": {},
   "outputs": [],
   "source": []
  }
 ],
 "metadata": {
  "kernelspec": {
   "display_name": "Python 3 (ipykernel)",
   "language": "python",
   "name": "python3"
  },
  "language_info": {
   "codemirror_mode": {
    "name": "ipython",
    "version": 3
   },
   "file_extension": ".py",
   "mimetype": "text/x-python",
   "name": "python",
   "nbconvert_exporter": "python",
   "pygments_lexer": "ipython3",
   "version": "3.9.13"
  }
 },
 "nbformat": 4,
 "nbformat_minor": 5
}
