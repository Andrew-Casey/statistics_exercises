{
 "cells": [
  {
   "cell_type": "markdown",
   "id": "b9de79c1",
   "metadata": {},
   "source": [
    "# 1\n",
    "A bank found that the average number of cars waiting during the noon hour at a drive-up window follows a Poisson distribution with a mean of 2 cars. Make a chart of this distribution and answer these questions concerning the probability of cars waiting at the drive-up window.\n"
   ]
  },
  {
   "cell_type": "code",
   "execution_count": 1,
   "id": "d31909aa",
   "metadata": {},
   "outputs": [
    {
     "data": {
      "image/png": "[encoded data removed]",
      "text/plain": [
       "<Figure size 640x480 with 1 Axes>"
      ]
     },
     "metadata": {},
     "output_type": "display_data"
    }
   ],
   "source": [
    "import matplotlib.pyplot as plt\n",
    "import numpy as np\n",
    "from scipy.stats import poisson\n",
    "\n",
    "# Set up the parameters\n",
    "mean = 2\n",
    "x = np.arange(0, 10)\n",
    "\n",
    "# Create the Poisson distribution\n",
    "dist = poisson.pmf(x, mean)\n",
    "\n",
    "# Plot the distribution\n",
    "plt.bar(x, dist)\n",
    "plt.xlabel('Number of Cars')\n",
    "plt.ylabel('Probability')\n",
    "plt.title('Poisson Distribution: Mean = 2')\n",
    "plt.show()\n",
    "\n"
   ]
  },
  {
   "cell_type": "markdown",
   "id": "ce55dda2",
   "metadata": {},
   "source": [
    "What is the probability that no cars drive up in the noon hour? "
   ]
  },
  {
   "cell_type": "code",
   "execution_count": 2,
   "id": "f4c0d18d",
   "metadata": {},
   "outputs": [
    {
     "data": {
      "text/plain": [
       "0.1353352832366127"
      ]
     },
     "execution_count": 2,
     "metadata": {},
     "output_type": "execute_result"
    }
   ],
   "source": [
    "prob_zero_cars = poisson.pmf(0, mean)\n",
    "prob_zero_cars"
   ]
  },
  {
   "cell_type": "markdown",
   "id": "ca382408",
   "metadata": {},
   "source": [
    "What is the probability that 3 or more cars come through the drive through? "
   ]
  },
  {
   "cell_type": "code",
   "execution_count": 3,
   "id": "eded6bf3",
   "metadata": {},
   "outputs": [
    {
     "data": {
      "text/plain": [
       "0.3233235838169366"
      ]
     },
     "execution_count": 3,
     "metadata": {},
     "output_type": "execute_result"
    }
   ],
   "source": [
    "prob_three_or_more_cars = 1 - poisson.cdf(2, mean)\n",
    "prob_three_or_more_cars"
   ]
  },
  {
   "cell_type": "markdown",
   "id": "80ae5584",
   "metadata": {},
   "source": [
    "How likely is it that the drive through gets at least 1 car?"
   ]
  },
  {
   "cell_type": "code",
   "execution_count": 4,
   "id": "e995f2b8",
   "metadata": {},
   "outputs": [
    {
     "data": {
      "text/plain": [
       "0.8646647167633873"
      ]
     },
     "execution_count": 4,
     "metadata": {},
     "output_type": "execute_result"
    }
   ],
   "source": [
    "prob_at_least_one_car = 1 - prob_zero_cars\n",
    "prob_at_least_one_car"
   ]
  },
  {
   "cell_type": "markdown",
   "id": "968e08cc",
   "metadata": {},
   "source": [
    "# 2\n",
    "Grades of State University graduates are normally distributed with a mean of 3.0 and a standard deviation of .3. Calculate the following:\n"
   ]
  },
  {
   "cell_type": "code",
   "execution_count": 54,
   "id": "aba00cc7",
   "metadata": {},
   "outputs": [],
   "source": [
    "#set mean and sd\n",
    "mean = 3.0\n",
    "sd = .3"
   ]
  },
  {
   "cell_type": "code",
   "execution_count": 55,
   "id": "9a1b25f9",
   "metadata": {},
   "outputs": [
    {
     "data": {
      "text/plain": [
       "<scipy.stats._distn_infrastructure.rv_continuous_frozen at 0x7fcc73e26b80>"
      ]
     },
     "execution_count": 55,
     "metadata": {},
     "output_type": "execute_result"
    }
   ],
   "source": [
    "univ_dist = stats.norm(mean, sd)\n",
    "univ_dist"
   ]
  },
  {
   "cell_type": "markdown",
   "id": "499746b1",
   "metadata": {},
   "source": [
    "What grade point average is required to be in the top 5% of the graduating class?\n"
   ]
  },
  {
   "cell_type": "code",
   "execution_count": 56,
   "id": "9226d384",
   "metadata": {},
   "outputs": [
    {
     "data": {
      "text/plain": [
       "3.4934560880854417"
      ]
     },
     "execution_count": 56,
     "metadata": {},
     "output_type": "execute_result"
    }
   ],
   "source": [
    "univ_dist.isf(.05)"
   ]
  },
  {
   "cell_type": "markdown",
   "id": "bfe1226e",
   "metadata": {},
   "source": [
    "What GPA constitutes the bottom 15% of the class?\n"
   ]
  },
  {
   "cell_type": "code",
   "execution_count": 57,
   "id": "9037c9e3",
   "metadata": {},
   "outputs": [
    {
     "data": {
      "text/plain": [
       "2.689069983151863"
      ]
     },
     "execution_count": 57,
     "metadata": {},
     "output_type": "execute_result"
    }
   ],
   "source": [
    "univ_dist.ppf(.15)"
   ]
  },
  {
   "cell_type": "markdown",
   "id": "17f39c99",
   "metadata": {},
   "source": [
    "An eccentric alumnus left scholarship money for students in the third decile from the bottom of their class. Determine the range of the third decile. Would a student with a 2.8 grade point average qualify for this scholarship?\n"
   ]
  },
  {
   "cell_type": "code",
   "execution_count": 58,
   "id": "b42ddbf9",
   "metadata": {},
   "outputs": [
    {
     "name": "stdout",
     "output_type": "stream",
     "text": [
      "Third decile range: (2.7475136299281258, 2.842679846187588)\n",
      "Yes, qualifies\n"
     ]
    }
   ],
   "source": [
    "\n",
    "#zscores\n",
    "z_20 = stats.norm.ppf(0.2)\n",
    "z_30 = stats.norm.ppf(0.3)\n",
    "\n",
    "#gpa lower and upper bounds of decile\n",
    "x_20 = mean + z_20 * sd\n",
    "x_30 = mean + z_30 * sd\n",
    "gpa_range = (x_20, x_30)\n",
    "\n",
    "print(\"Third decile range:\", gpa_range)\n",
    "\n",
    "if 2.8 >= gpa_range[0] and 2.8 <= gpa_range[1]:\n",
    "    print('Yes, qualifies')\n",
    "else:\n",
    "    print(\"No, doesn't qualify\")\n"
   ]
  },
  {
   "cell_type": "markdown",
   "id": "5a2bd4c7",
   "metadata": {},
   "source": [
    "If I have a GPA of 3.5, what percentile am I in?"
   ]
  },
  {
   "cell_type": "code",
   "execution_count": 59,
   "id": "1e085273",
   "metadata": {},
   "outputs": [
    {
     "data": {
      "text/plain": [
       "0.9522096477271853"
      ]
     },
     "execution_count": 59,
     "metadata": {},
     "output_type": "execute_result"
    }
   ],
   "source": [
    "#z-score for a GPA of 3.5\n",
    "x = 3.5\n",
    "z = (x - mean) / sd\n",
    "\n",
    "# Calculate percentile from z-score\n",
    "percentile = stats.norm.cdf(z)\n",
    "\n",
    "percentile"
   ]
  },
  {
   "cell_type": "markdown",
   "id": "7bdfc014",
   "metadata": {},
   "source": [
    "# 3\n",
    "A marketing website has an average click-through rate of 2%. One day they observe 4326 visitors and 97 click-throughs. How likely is it that this many people or more click through?"
   ]
  },
  {
   "cell_type": "code",
   "execution_count": 60,
   "id": "36e1de99",
   "metadata": {},
   "outputs": [
    {
     "data": {
      "text/plain": [
       "0.11781530585978467"
      ]
     },
     "execution_count": 60,
     "metadata": {},
     "output_type": "execute_result"
    }
   ],
   "source": [
    "from scipy.stats import binom\n",
    "\n",
    "n = 4326  # number of trials/visitors\n",
    "p = 0.02  # probability of success/click-through rate\n",
    "x = 97  # number of successes/click-throughs\n",
    "\n",
    "# we want to know how many people n with an average 2% click through avg, will produce 97 successes?\n",
    "stats.binom(n, p).sf(x)"
   ]
  },
  {
   "cell_type": "markdown",
   "id": "4cadfa24",
   "metadata": {},
   "source": [
    "# 4\n",
    "You are working on some statistics homework consisting of 100 questions where all of the answers are a probability rounded to the hundreths place. Looking to save time, you put down random probabilities as the answer to each question.\n",
    "\n",
    "What is the probability that at least one of your first 60 answers is correct?"
   ]
  },
  {
   "cell_type": "code",
   "execution_count": 64,
   "id": "8f26c5e3",
   "metadata": {},
   "outputs": [
    {
     "data": {
      "text/plain": [
       "0.4528433576092388"
      ]
     },
     "execution_count": 64,
     "metadata": {},
     "output_type": "execute_result"
    }
   ],
   "source": [
    "#use the compliment rule, P(A)=(1-0.01)^60\n",
    "#P(at least one correct) = 1 - P(none correct)\n",
    "#P(at least one correct) = \n",
    "1 - (1 - 0.01)**60\n"
   ]
  },
  {
   "cell_type": "code",
   "execution_count": 65,
   "id": "5ede6101",
   "metadata": {},
   "outputs": [
    {
     "data": {
      "text/plain": [
       "0.45284335760923855"
      ]
     },
     "execution_count": 65,
     "metadata": {},
     "output_type": "execute_result"
    }
   ],
   "source": [
    "# number of trials\n",
    "n1 = 60\n",
    "\n",
    "# probability of success\n",
    "p1 = 0.01\n",
    "\n",
    "# probability of getting at least one success in the first 60 trials\n",
    "prob_of_at= stats.binom(n1, p1).sf(0)\n",
    "prob_of_at"
   ]
  },
  {
   "cell_type": "code",
   "execution_count": 66,
   "id": "490e630f",
   "metadata": {},
   "outputs": [
    {
     "data": {
      "text/plain": [
       "0.12123327131180728"
      ]
     },
     "execution_count": 66,
     "metadata": {},
     "output_type": "execute_result"
    }
   ],
   "source": [
    "prob_of_at= stats.binom(n1, p1).sf(1)\n",
    "prob_of_at"
   ]
  },
  {
   "cell_type": "markdown",
   "id": "be1aadf7",
   "metadata": {},
   "source": [
    "# 5\n",
    "\n",
    "The codeup staff tends to get upset when the student break area is not cleaned up. Suppose that there's a 3% chance that any one student cleans the break area when they visit it, and, on any given day, about 90% of the 3 active cohorts of 22 students visit the break area. How likely is it that the break area gets cleaned up each day? How likely is it that it goes two days without getting cleaned up? All week?"
   ]
  },
  {
   "cell_type": "code",
   "execution_count": 67,
   "id": "0e51b0e1",
   "metadata": {},
   "outputs": [],
   "source": [
    "import scipy.stats as stats\n",
    "\n",
    "n_students = 22 * 3 \n",
    "p_visit = 0.9\n",
    "n_visitors = round(n_students * p_visit) \n",
    "p_clean = 0.03 \n"
   ]
  },
  {
   "cell_type": "code",
   "execution_count": 68,
   "id": "f797b569",
   "metadata": {},
   "outputs": [
    {
     "data": {
      "text/plain": [
       "0.8342199288437352"
      ]
     },
     "execution_count": 68,
     "metadata": {},
     "output_type": "execute_result"
    }
   ],
   "source": [
    "# probability that the break area gets cleaned each day\n",
    "p_clean_day = stats.binom(n_visitors, p_clean).sf(0) \n",
    "p_clean_day"
   ]
  },
  {
   "cell_type": "code",
   "execution_count": 69,
   "id": "4da739ae",
   "metadata": {},
   "outputs": [
    {
     "data": {
      "text/plain": [
       "0.027483031992576224"
      ]
     },
     "execution_count": 69,
     "metadata": {},
     "output_type": "execute_result"
    }
   ],
   "source": [
    "# probability that the break area does not get cleaned for two days\n",
    "p_not_clean_2days = stats.binom(2, 1 - p_clean_day).pmf(2) \n",
    "p_not_clean_2days"
   ]
  },
  {
   "cell_type": "code",
   "execution_count": 70,
   "id": "67b03a3c",
   "metadata": {},
   "outputs": [
    {
     "data": {
      "text/plain": [
       "0.00012521651388091348"
      ]
     },
     "execution_count": 70,
     "metadata": {},
     "output_type": "execute_result"
    }
   ],
   "source": [
    "# probability that the break area does not get cleaned for a week\n",
    "p_not_clean_week = stats.binom(5, 1 - p_clean_day).pmf(5)\n",
    "p_not_clean_week"
   ]
  },
  {
   "cell_type": "markdown",
   "id": "9e543af3",
   "metadata": {},
   "source": [
    "# 6\n",
    "\n",
    "You want to get lunch at La Panaderia, but notice that the line is usually very long at lunchtime. After several weeks of careful observation, you notice that the average number of people in line when your lunch break starts is normally distributed with a mean of 15 and standard deviation of 3. If it takes 2 minutes for each person to order, and 10 minutes from ordering to getting your food, what is the likelihood that you have at least 15 minutes left to eat your food before you have to go back to class? Assume you have one hour for lunch, and ignore travel time to and from La Panaderia."
   ]
  },
  {
   "cell_type": "code",
   "execution_count": 71,
   "id": "687321bf",
   "metadata": {},
   "outputs": [
    {
     "data": {
      "text/plain": [
       "0.9999115827147992"
      ]
     },
     "execution_count": 71,
     "metadata": {},
     "output_type": "execute_result"
    }
   ],
   "source": [
    "mean = 15\n",
    "std_dev = 3\n",
    "total_time = 60 - 15 # Total time for lunch break minus time spent in line and waiting for food\n",
    "\n",
    "# Convert to a standard normal distribution\n",
    "z_score = (total_time - (12 * mean)) / (12 * std_dev)\n",
    "\n",
    "# Calculate the probability\n",
    "probability = stats.norm.sf(z_score)\n",
    "\n",
    "probability\n"
   ]
  },
  {
   "cell_type": "markdown",
   "id": "6f239dc3",
   "metadata": {},
   "source": [
    "# 7\n",
    "Connect to the employees database and find the average salary of current employees, along with the standard deviation. For the following questions, calculate the answer based on modeling the employees salaries with a normal distribution defined by the calculated mean and standard deviation then compare this answer to the actual values present in the salaries dataset.\n",
    "\n",
    "What percent of employees earn less than 60,000?\n",
    "What percent of employees earn more than 95,000?\n",
    "What percent of employees earn between 65,000 and 80,000?\n",
    "What do the top 5% of employees make?"
   ]
  },
  {
   "cell_type": "code",
   "execution_count": 72,
   "id": "79d40bfd",
   "metadata": {},
   "outputs": [],
   "source": [
    "import pandas as pd\n",
    "import numpy as np\n",
    "from env import host_name, user, password"
   ]
  },
  {
   "cell_type": "code",
   "execution_count": 73,
   "id": "d446d48c",
   "metadata": {},
   "outputs": [],
   "source": [
    "def get_db_url(database):\n",
    "    url = f'mysql+pymysql://{user}:{password}@{host_name}/{database}'\n",
    "    return url"
   ]
  },
  {
   "cell_type": "code",
   "execution_count": 74,
   "id": "7bc46bc9",
   "metadata": {},
   "outputs": [],
   "source": [
    "url = get_db_url('employees')"
   ]
  },
  {
   "cell_type": "code",
   "execution_count": 75,
   "id": "82eb789e",
   "metadata": {},
   "outputs": [
    {
     "data": {
      "text/html": [
       "<div>\n",
       "<style scoped>\n",
       "    .dataframe tbody tr th:only-of-type {\n",
       "        vertical-align: middle;\n",
       "    }\n",
       "\n",
       "    .dataframe tbody tr th {\n",
       "        vertical-align: top;\n",
       "    }\n",
       "\n",
       "    .dataframe thead th {\n",
       "        text-align: right;\n",
       "    }\n",
       "</style>\n",
       "<table border=\"1\" class=\"dataframe\">\n",
       "  <thead>\n",
       "    <tr style=\"text-align: right;\">\n",
       "      <th></th>\n",
       "      <th>emp_no</th>\n",
       "      <th>salary</th>\n",
       "      <th>from_date</th>\n",
       "      <th>to_date</th>\n",
       "    </tr>\n",
       "  </thead>\n",
       "  <tbody>\n",
       "    <tr>\n",
       "      <th>0</th>\n",
       "      <td>10001</td>\n",
       "      <td>88958</td>\n",
       "      <td>2002-06-22</td>\n",
       "      <td>9999-01-01</td>\n",
       "    </tr>\n",
       "    <tr>\n",
       "      <th>1</th>\n",
       "      <td>10002</td>\n",
       "      <td>72527</td>\n",
       "      <td>2001-08-02</td>\n",
       "      <td>9999-01-01</td>\n",
       "    </tr>\n",
       "    <tr>\n",
       "      <th>2</th>\n",
       "      <td>10003</td>\n",
       "      <td>43311</td>\n",
       "      <td>2001-12-01</td>\n",
       "      <td>9999-01-01</td>\n",
       "    </tr>\n",
       "    <tr>\n",
       "      <th>3</th>\n",
       "      <td>10004</td>\n",
       "      <td>74057</td>\n",
       "      <td>2001-11-27</td>\n",
       "      <td>9999-01-01</td>\n",
       "    </tr>\n",
       "    <tr>\n",
       "      <th>4</th>\n",
       "      <td>10005</td>\n",
       "      <td>94692</td>\n",
       "      <td>2001-09-09</td>\n",
       "      <td>9999-01-01</td>\n",
       "    </tr>\n",
       "    <tr>\n",
       "      <th>...</th>\n",
       "      <td>...</td>\n",
       "      <td>...</td>\n",
       "      <td>...</td>\n",
       "      <td>...</td>\n",
       "    </tr>\n",
       "    <tr>\n",
       "      <th>240119</th>\n",
       "      <td>499995</td>\n",
       "      <td>52868</td>\n",
       "      <td>2002-06-01</td>\n",
       "      <td>9999-01-01</td>\n",
       "    </tr>\n",
       "    <tr>\n",
       "      <th>240120</th>\n",
       "      <td>499996</td>\n",
       "      <td>69501</td>\n",
       "      <td>2002-05-12</td>\n",
       "      <td>9999-01-01</td>\n",
       "    </tr>\n",
       "    <tr>\n",
       "      <th>240121</th>\n",
       "      <td>499997</td>\n",
       "      <td>83441</td>\n",
       "      <td>2001-08-26</td>\n",
       "      <td>9999-01-01</td>\n",
       "    </tr>\n",
       "    <tr>\n",
       "      <th>240122</th>\n",
       "      <td>499998</td>\n",
       "      <td>55003</td>\n",
       "      <td>2001-12-25</td>\n",
       "      <td>9999-01-01</td>\n",
       "    </tr>\n",
       "    <tr>\n",
       "      <th>240123</th>\n",
       "      <td>499999</td>\n",
       "      <td>77303</td>\n",
       "      <td>2001-11-29</td>\n",
       "      <td>9999-01-01</td>\n",
       "    </tr>\n",
       "  </tbody>\n",
       "</table>\n",
       "<p>240124 rows × 4 columns</p>\n",
       "</div>"
      ],
      "text/plain": [
       "        emp_no  salary   from_date     to_date\n",
       "0        10001   88958  2002-06-22  9999-01-01\n",
       "1        10002   72527  2001-08-02  9999-01-01\n",
       "2        10003   43311  2001-12-01  9999-01-01\n",
       "3        10004   74057  2001-11-27  9999-01-01\n",
       "4        10005   94692  2001-09-09  9999-01-01\n",
       "...        ...     ...         ...         ...\n",
       "240119  499995   52868  2002-06-01  9999-01-01\n",
       "240120  499996   69501  2002-05-12  9999-01-01\n",
       "240121  499997   83441  2001-08-26  9999-01-01\n",
       "240122  499998   55003  2001-12-25  9999-01-01\n",
       "240123  499999   77303  2001-11-29  9999-01-01\n",
       "\n",
       "[240124 rows x 4 columns]"
      ]
     },
     "execution_count": 75,
     "metadata": {},
     "output_type": "execute_result"
    }
   ],
   "source": [
    "salaries_df = pd.read_sql('SELECT * FROM salaries WHERE to_date > NOW()', url)\n",
    "salaries_df"
   ]
  },
  {
   "cell_type": "code",
   "execution_count": 79,
   "id": "3f22d4e8",
   "metadata": {},
   "outputs": [
    {
     "data": {
      "text/plain": [
       "72012.24"
      ]
     },
     "execution_count": 79,
     "metadata": {},
     "output_type": "execute_result"
    }
   ],
   "source": [
    "mean_salary = round(salaries_df['salary'].mean(),2)\n",
    "mean_salary"
   ]
  },
  {
   "cell_type": "code",
   "execution_count": 80,
   "id": "495e1c00",
   "metadata": {},
   "outputs": [
    {
     "data": {
      "text/plain": [
       "17310.0"
      ]
     },
     "execution_count": 80,
     "metadata": {},
     "output_type": "execute_result"
    }
   ],
   "source": [
    "std_salary = round(salaries_df['salary'].std(),2)\n",
    "std_salary"
   ]
  },
  {
   "cell_type": "code",
   "execution_count": 81,
   "id": "3d418e20",
   "metadata": {},
   "outputs": [
    {
     "data": {
      "text/plain": [
       "24.39"
      ]
     },
     "execution_count": 81,
     "metadata": {},
     "output_type": "execute_result"
    }
   ],
   "source": [
    "# Calculate the z-score for 60,000\n",
    "z_score = (60000 - mean_salary) / std_salary\n",
    "\n",
    "# Calculate the probability of earning less than 60,000\n",
    "p_less_than_60k = stats.norm.cdf(z_score)\n",
    "\n",
    "# Convert the probability to a percentage\n",
    "percent_less_than_60k = round(p_less_than_60k * 100, 2)\n",
    "\n",
    "percent_less_than_60k"
   ]
  },
  {
   "cell_type": "code",
   "execution_count": 82,
   "id": "94a8957d",
   "metadata": {},
   "outputs": [
    {
     "data": {
      "text/plain": [
       "27.06"
      ]
     },
     "execution_count": 82,
     "metadata": {},
     "output_type": "execute_result"
    }
   ],
   "source": [
    "#compaired to actual values from db\n",
    "actual_percent_less_than_60k = round((salaries_df[salaries_df['salary'] < 60000]['salary'].count() / salaries_df['salary'].count()) * 100, 2)\n",
    "actual_percent_less_than_60k"
   ]
  },
  {
   "cell_type": "code",
   "execution_count": 95,
   "id": "10cf20fc",
   "metadata": {},
   "outputs": [
    {
     "data": {
      "text/plain": [
       "9.21"
      ]
     },
     "execution_count": 95,
     "metadata": {},
     "output_type": "execute_result"
    }
   ],
   "source": [
    "z_score2 = (95000 - mean_salary) / std_salary\n",
    "\n",
    "# Calculate the probability of earning more than 95,000\n",
    "p_more_than_95k = stats.norm.sf(z_score2)\n",
    "\n",
    "# Convert the probability to a percentage\n",
    "percent_more_than_95k = round(p_more_than_95k * 100, 2)\n",
    "percent_more_than_95k"
   ]
  },
  {
   "cell_type": "code",
   "execution_count": 91,
   "id": "cef1058d",
   "metadata": {},
   "outputs": [
    {
     "data": {
      "text/plain": [
       "10.86"
      ]
     },
     "execution_count": 91,
     "metadata": {},
     "output_type": "execute_result"
    }
   ],
   "source": [
    "#compaired to actual values from db\n",
    "actual_percent_more_than_95k = round((salaries_df[salaries_df['salary'] > 95000]['salary'].count() / salaries_df['salary'].count()) * 100, 2)\n",
    "actual_percent_more_than_95k"
   ]
  },
  {
   "cell_type": "code",
   "execution_count": 93,
   "id": "10a2b142",
   "metadata": {},
   "outputs": [
    {
     "data": {
      "text/plain": [
       "0.33506048676360467"
      ]
     },
     "execution_count": 93,
     "metadata": {},
     "output_type": "execute_result"
    }
   ],
   "source": [
    "# between 65K and 80K\n",
    "z3 = (65000 - mean_salary) / std_salary\n",
    "z4 = (80000 - mean_salary) / std_salary\n",
    "\n",
    "between_65_85 = stats.norm.cdf(z4) - stats.norm.cdf(z3)\n",
    "between_65_85 \n"
   ]
  },
  {
   "cell_type": "code",
   "execution_count": 94,
   "id": "89ddc558",
   "metadata": {},
   "outputs": [
    {
     "data": {
      "text/plain": [
       "100484.66"
      ]
     },
     "execution_count": 94,
     "metadata": {},
     "output_type": "execute_result"
    }
   ],
   "source": [
    "#The ppf method takes a probability value as its first argument ( 0.95 for the top 5% of employees) \n",
    "#the mean and standard deviation of the normal distribution as its loc and scale arguments \n",
    "\n",
    "top_5_percent_salary = round(stats.norm.ppf(0.95, mean_salary, std_salary),2)\n",
    "top_5_percent_salary"
   ]
  },
  {
   "cell_type": "code",
   "execution_count": null,
   "id": "6249a1eb",
   "metadata": {},
   "outputs": [],
   "source": []
  }
 ],
 "metadata": {
  "kernelspec": {
   "display_name": "Python 3 (ipykernel)",
   "language": "python",
   "name": "python3"
  },
  "language_info": {
   "codemirror_mode": {
    "name": "ipython",
    "version": 3
   },
   "file_extension": ".py",
   "mimetype": "text/x-python",
   "name": "python",
   "nbconvert_exporter": "python",
   "pygments_lexer": "ipython3",
   "version": "3.9.13"
  }
 },
 "nbformat": 4,
 "nbformat_minor": 5
}
